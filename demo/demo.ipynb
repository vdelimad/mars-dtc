{
 "cells": [
  {
   "cell_type": "raw",
   "id": "d6bfc82a",
   "metadata": {
    "vscode": {
     "languageId": "raw"
    }
   },
   "source": [
    "---\n",
    "title: Demo\n",
    "format:\n",
    "  html:\n",
    "    embed-resources: true\n",
    "---"
   ]
  },
  {
   "cell_type": "markdown",
   "id": "8b4864fd",
   "metadata": {},
   "source": [
    "## Setup"
   ]
  },
  {
   "cell_type": "code",
   "execution_count": 2,
   "id": "8c479938",
   "metadata": {},
   "outputs": [],
   "source": [
    "# ---------------- Imports ----------------\n",
    "import os\n",
    "\n",
    "import matplotlib.pyplot as plt\n",
    "from matplotlib.ticker import FuncFormatter\n",
    "import numpy as np\n",
    "import pandas as pd\n",
    "\n",
    "import mars_dtc as mdt\n"
   ]
  },
  {
   "cell_type": "code",
   "execution_count": 3,
   "id": "30e74e5a",
   "metadata": {},
   "outputs": [],
   "source": [
    "# ---------------- Args ----------------\n",
    "input_data_file = \"mars_weather_data.csv\"\n",
    "\n"
   ]
  },
  {
   "cell_type": "markdown",
   "id": "7015b379",
   "metadata": {},
   "source": [
    "## Basic Features"
   ]
  },
  {
   "cell_type": "markdown",
   "id": "f36f7cf8",
   "metadata": {},
   "source": [
    "### Basic Construction and Display"
   ]
  },
  {
   "cell_type": "markdown",
   "id": "63b1cbc2",
   "metadata": {},
   "source": [
    "Calendar specification (Note, only Darian currently supported)"
   ]
  },
  {
   "cell_type": "code",
   "execution_count": 4,
   "id": "93eabf82",
   "metadata": {},
   "outputs": [
    {
     "data": {
      "text/plain": [
       "DarianCalendarDate(214, 5, 12)"
      ]
     },
     "execution_count": 4,
     "metadata": {},
     "output_type": "execute_result"
    }
   ],
   "source": [
    "d_custom = mdt.MarsDate(214, 5, 12, calendar=mdt.DarianCalendar())\n",
    "d_custom"
   ]
  },
  {
   "cell_type": "markdown",
   "id": "73f16d0d",
   "metadata": {},
   "source": [
    "From integers"
   ]
  },
  {
   "cell_type": "code",
   "execution_count": 5,
   "id": "60502285",
   "metadata": {},
   "outputs": [
    {
     "data": {
      "text/plain": [
       "DarianCalendarDate(214, 14, 28)"
      ]
     },
     "execution_count": 5,
     "metadata": {},
     "output_type": "execute_result"
    }
   ],
   "source": [
    "mdt.MarsDate(214, 14, 28)"
   ]
  },
  {
   "cell_type": "markdown",
   "id": "c0bed17e",
   "metadata": {},
   "source": [
    "From string"
   ]
  },
  {
   "cell_type": "code",
   "execution_count": 6,
   "id": "d10b4035",
   "metadata": {},
   "outputs": [
    {
     "data": {
      "text/plain": [
       "DarianCalendarDate(214, 14, 28)"
      ]
     },
     "execution_count": 6,
     "metadata": {},
     "output_type": "execute_result"
    }
   ],
   "source": [
    "mdt.MarsDate.from_string(\"214-14-28\")\n"
   ]
  },
  {
   "cell_type": "code",
   "execution_count": 7,
   "id": "72ec338d",
   "metadata": {},
   "outputs": [
    {
     "data": {
      "text/plain": [
       "DarianCalendarDate(214, 14, 28)"
      ]
     },
     "execution_count": 7,
     "metadata": {},
     "output_type": "execute_result"
    }
   ],
   "source": [
    "mdt.MarsDate.from_string(\"214/14/28\")\n"
   ]
  },
  {
   "cell_type": "code",
   "execution_count": 8,
   "id": "be3ad8b2",
   "metadata": {},
   "outputs": [
    {
     "data": {
      "text/plain": [
       "DarianCalendarDate(214, 14, 28)"
      ]
     },
     "execution_count": 8,
     "metadata": {},
     "output_type": "execute_result"
    }
   ],
   "source": [
    "mdt.MarsDate.from_string(\"214.14.28\")"
   ]
  },
  {
   "cell_type": "markdown",
   "id": "cc4f8bc4",
   "metadata": {},
   "source": [
    "Negatives Years"
   ]
  },
  {
   "cell_type": "code",
   "execution_count": 9,
   "id": "90bc011f",
   "metadata": {},
   "outputs": [
    {
     "data": {
      "text/plain": [
       "DarianCalendarDate(-214, 14, 28)"
      ]
     },
     "execution_count": 9,
     "metadata": {},
     "output_type": "execute_result"
    }
   ],
   "source": [
    "mdt.MarsDate.from_string(\"-214-14-28\")\n"
   ]
  },
  {
   "cell_type": "code",
   "execution_count": 10,
   "id": "ff4249c1",
   "metadata": {},
   "outputs": [
    {
     "data": {
      "text/plain": [
       "DarianCalendarDate(-214, 14, 28)"
      ]
     },
     "execution_count": 10,
     "metadata": {},
     "output_type": "execute_result"
    }
   ],
   "source": [
    "mdt.MarsDate.from_string(\"-214/14/28\")\n"
   ]
  },
  {
   "cell_type": "code",
   "execution_count": 11,
   "id": "840e9d9f",
   "metadata": {},
   "outputs": [
    {
     "data": {
      "text/plain": [
       "DarianCalendarDate(-214, 14, 28)"
      ]
     },
     "execution_count": 11,
     "metadata": {},
     "output_type": "execute_result"
    }
   ],
   "source": [
    "mdt.MarsDate.from_string(\"-214.14.28\")"
   ]
  },
  {
   "cell_type": "markdown",
   "id": "79d7c9e4",
   "metadata": {},
   "source": [
    "Ordinals"
   ]
  },
  {
   "cell_type": "code",
   "execution_count": 12,
   "id": "96871b56",
   "metadata": {},
   "outputs": [
    {
     "data": {
      "text/plain": [
       "143395"
      ]
     },
     "execution_count": 12,
     "metadata": {},
     "output_type": "execute_result"
    }
   ],
   "source": [
    "# From ordinal\n",
    "ord_val = mdt.MarsDate(214, 12, 10).to_ordinal()\n",
    "\n",
    "ord_val"
   ]
  },
  {
   "cell_type": "code",
   "execution_count": 13,
   "id": "5fe009b7",
   "metadata": {},
   "outputs": [
    {
     "data": {
      "text/plain": [
       "DarianCalendarDate(214, 12, 10)"
      ]
     },
     "execution_count": 13,
     "metadata": {},
     "output_type": "execute_result"
    }
   ],
   "source": [
    "mdt.MarsDate.from_ordinal(ord_val)\n"
   ]
  },
  {
   "cell_type": "code",
   "execution_count": 14,
   "id": "c4b94663",
   "metadata": {},
   "outputs": [
    {
     "data": {
      "text/plain": [
       "-142762"
      ]
     },
     "execution_count": 14,
     "metadata": {},
     "output_type": "execute_result"
    }
   ],
   "source": [
    "# From ordinal\n",
    "ord_val = mdt.MarsDate(-214, 12, 10).to_ordinal()\n",
    "\n",
    "ord_val"
   ]
  },
  {
   "cell_type": "code",
   "execution_count": 15,
   "id": "d069c6db",
   "metadata": {},
   "outputs": [
    {
     "data": {
      "text/plain": [
       "DarianCalendarDate(-214, 12, 10)"
      ]
     },
     "execution_count": 15,
     "metadata": {},
     "output_type": "execute_result"
    }
   ],
   "source": [
    "mdt.MarsDate.from_ordinal(ord_val)\n"
   ]
  },
  {
   "cell_type": "markdown",
   "id": "6e8ef1ee",
   "metadata": {},
   "source": [
    "Formats\n",
    "\n",
    "\n",
    "- %Y   → full year (with sign)\n",
    "- %y   → last 2 digits of year\n",
    "- %m   → numeric month (01–24)\n",
    "- %b   → abbreviated month (Sag → Sag, Dhan → Dha, etc.)\n",
    "- %B   → full month name (Sagittarius)\n",
    "- %d   → sol number (01–28)\n",
    "- %A   → full weekday name (Sol Jovis)\n",
    "- %a   → abbreviated weekday (Jov)\n"
   ]
  },
  {
   "cell_type": "code",
   "execution_count": 16,
   "id": "67cd5d79",
   "metadata": {},
   "outputs": [
    {
     "name": "stdout",
     "output_type": "stream",
     "text": [
      "214/14/28\n",
      "Mit 28, 214\n",
      "Mithuna 28, 214\n",
      "Sol Mercurii, Mithuna 28, 214\n",
      "Mer, Mit 28, 214\n"
     ]
    }
   ],
   "source": [
    "mdate = mdt.MarsDate(214, 14, 28)\n",
    "\n",
    "\n",
    "print(mdate.format(\"%Y/%m/%d\"))       # 0214/14/28\n",
    "print(mdate.format(\"%b %d, %Y\"))      # Mit 28, 0214\n",
    "print(mdate.format(\"%B %d, %Y\"))      # Mithuna 28, 0214\n",
    "print(mdate.format(\"%A, %B %d, %Y\"))  # Sol Jovis, Mithuna 28\n",
    "print(mdate.format(\"%a, %b %d, %Y\"))  # Jov, Mit 28, 0214\n"
   ]
  },
  {
   "cell_type": "markdown",
   "id": "f310be12",
   "metadata": {},
   "source": [
    "Equality and comparison"
   ]
  },
  {
   "cell_type": "code",
   "execution_count": 17,
   "id": "351ef253",
   "metadata": {},
   "outputs": [
    {
     "data": {
      "text/plain": [
       "False"
      ]
     },
     "execution_count": 17,
     "metadata": {},
     "output_type": "execute_result"
    }
   ],
   "source": [
    "mdate1 = mdt.MarsDate(214, 20, 2) # larger\n",
    "mdate2 = mdt.MarsDate(214, 14, 28)\n",
    "\n",
    "mdate1 == mdate2\n"
   ]
  },
  {
   "cell_type": "code",
   "execution_count": 18,
   "id": "aecd58eb",
   "metadata": {},
   "outputs": [
    {
     "data": {
      "text/plain": [
       "False"
      ]
     },
     "execution_count": 18,
     "metadata": {},
     "output_type": "execute_result"
    }
   ],
   "source": [
    "mdate1 < mdate2\n"
   ]
  },
  {
   "cell_type": "code",
   "execution_count": 19,
   "id": "41690b60",
   "metadata": {},
   "outputs": [
    {
     "data": {
      "text/plain": [
       "True"
      ]
     },
     "execution_count": 19,
     "metadata": {},
     "output_type": "execute_result"
    }
   ],
   "source": [
    "mdate1 > mdate2\n"
   ]
  },
  {
   "cell_type": "code",
   "execution_count": 20,
   "id": "ffb65169",
   "metadata": {},
   "outputs": [
    {
     "data": {
      "text/plain": [
       "False"
      ]
     },
     "execution_count": 20,
     "metadata": {},
     "output_type": "execute_result"
    }
   ],
   "source": [
    "mdate1 <= mdate2\n"
   ]
  },
  {
   "cell_type": "code",
   "execution_count": 21,
   "id": "ce3a368d",
   "metadata": {},
   "outputs": [
    {
     "data": {
      "text/plain": [
       "True"
      ]
     },
     "execution_count": 21,
     "metadata": {},
     "output_type": "execute_result"
    }
   ],
   "source": [
    "mdate1 != mdate2\n"
   ]
  },
  {
   "cell_type": "code",
   "execution_count": 22,
   "id": "4a1e18b4",
   "metadata": {},
   "outputs": [
    {
     "data": {
      "text/plain": [
       "False"
      ]
     },
     "execution_count": 22,
     "metadata": {},
     "output_type": "execute_result"
    }
   ],
   "source": [
    "mdate2 > mdate1\n"
   ]
  },
  {
   "cell_type": "code",
   "execution_count": 23,
   "id": "fbbf9e64",
   "metadata": {},
   "outputs": [
    {
     "data": {
      "text/plain": [
       "[DarianCalendarDate(214, 14, 28), DarianCalendarDate(214, 20, 2)]"
      ]
     },
     "execution_count": 23,
     "metadata": {},
     "output_type": "execute_result"
    }
   ],
   "source": [
    "sorted([mdate2, mdate1])"
   ]
  },
  {
   "cell_type": "markdown",
   "id": "c58221d0",
   "metadata": {},
   "source": [
    "Hashability"
   ]
  },
  {
   "cell_type": "code",
   "execution_count": 24,
   "id": "fe4b50f2",
   "metadata": {},
   "outputs": [
    {
     "data": {
      "text/plain": [
       "'mid'"
      ]
     },
     "execution_count": 24,
     "metadata": {},
     "output_type": "execute_result"
    }
   ],
   "source": [
    "dates_dict = {mdate1: \"start\", mdate2: \"mid\"}\n",
    "dates_dict[mdate2]"
   ]
  },
  {
   "cell_type": "markdown",
   "id": "91d4c3a9",
   "metadata": {},
   "source": [
    "From JSON or YAML"
   ]
  },
  {
   "cell_type": "code",
   "execution_count": 25,
   "id": "67ed4b54",
   "metadata": {},
   "outputs": [
    {
     "data": {
      "text/plain": [
       "DarianCalendarDate(214, 14, 28)"
      ]
     },
     "execution_count": 25,
     "metadata": {},
     "output_type": "execute_result"
    }
   ],
   "source": [
    "mdt.MarsDate.from_json(mdate2.to_json())\n"
   ]
  },
  {
   "cell_type": "code",
   "execution_count": 26,
   "id": "533ed0ff",
   "metadata": {},
   "outputs": [
    {
     "data": {
      "text/plain": [
       "DarianCalendarDate(214, 14, 28)"
      ]
     },
     "execution_count": 26,
     "metadata": {},
     "output_type": "execute_result"
    }
   ],
   "source": [
    "mdt.MarsDate.from_yaml(mdate2.to_yaml())"
   ]
  },
  {
   "cell_type": "code",
   "execution_count": 27,
   "id": "d92eabff",
   "metadata": {},
   "outputs": [
    {
     "name": "stdout",
     "output_type": "stream",
     "text": [
      "JSON: {\"year\": 214, \"month\": 20, \"sol\": 2, \"calendar\": \"DarianCalendar\"}\n",
      "YAML: calendar: DarianCalendar\n",
      "month: 20\n",
      "sol: 2\n",
      "year: 214\n",
      "\n"
     ]
    }
   ],
   "source": [
    "mdate2 = mdt.MarsDate(214, 20, 2)\n",
    "j = mdate2.to_json()\n",
    "y = mdate2.to_yaml()\n",
    "\n",
    "print(\"JSON:\", j)\n",
    "print(\"YAML:\", y)\n",
    "\n",
    "assert mdt.MarsDate.from_json(j) == mdate2\n",
    "assert mdt.MarsDate.from_yaml(y) == mdate2\n"
   ]
  },
  {
   "cell_type": "markdown",
   "id": "1106b1ca",
   "metadata": {},
   "source": [
    "Display in different formats"
   ]
  },
  {
   "cell_type": "code",
   "execution_count": 28,
   "id": "9f3c185a",
   "metadata": {},
   "outputs": [
    {
     "name": "stdout",
     "output_type": "stream",
     "text": [
      "String: 214/20/02\n",
      "Repr: DarianCalendarDate(214, 20, 2)\n",
      "ISO: +0214-20-02\n",
      "Dict: {'year': 214, 'month': 20, 'sol': 2, 'calendar': 'DarianCalendar'}\n",
      "JSON: {\"year\": 214, \"month\": 20, \"sol\": 2, \"calendar\": \"DarianCalendar\"}\n",
      "YAML: calendar: DarianCalendar\n",
      "month: 20\n",
      "sol: 2\n",
      "year: 214\n",
      "\n"
     ]
    }
   ],
   "source": [
    "print(\"String:\", str(mdate2))\n",
    "print(\"Repr:\", repr(mdate2))\n",
    "print(\"ISO:\", mdate2.isoformat())\n",
    "print(\"Dict:\", mdate2.to_dict())\n",
    "print(\"JSON:\", mdate2.to_json())\n",
    "print(\"YAML:\", mdate2.to_yaml())"
   ]
  },
  {
   "cell_type": "markdown",
   "id": "9e5a6c9a",
   "metadata": {},
   "source": [
    "### Utilities"
   ]
  },
  {
   "cell_type": "markdown",
   "id": "5f20697f",
   "metadata": {},
   "source": [
    "Date range generation"
   ]
  },
  {
   "cell_type": "code",
   "execution_count": 29,
   "id": "bbc818bf",
   "metadata": {},
   "outputs": [
    {
     "data": {
      "text/plain": [
       "[DarianCalendarDate(214, 14, 25),\n",
       " DarianCalendarDate(214, 14, 26),\n",
       " DarianCalendarDate(214, 14, 27),\n",
       " DarianCalendarDate(214, 14, 28),\n",
       " DarianCalendarDate(214, 15, 1),\n",
       " DarianCalendarDate(214, 15, 2),\n",
       " DarianCalendarDate(214, 15, 3),\n",
       " DarianCalendarDate(214, 15, 4),\n",
       " DarianCalendarDate(214, 15, 5),\n",
       " DarianCalendarDate(214, 15, 6),\n",
       " DarianCalendarDate(214, 15, 7),\n",
       " DarianCalendarDate(214, 15, 8),\n",
       " DarianCalendarDate(214, 15, 9),\n",
       " DarianCalendarDate(214, 15, 10)]"
      ]
     },
     "execution_count": 29,
     "metadata": {},
     "output_type": "execute_result"
    }
   ],
   "source": [
    "mdt.mars_date_range(start=\"0214/14/25\", end=\"0214/15/10\", freq=\"sol\")\n",
    "\n"
   ]
  },
  {
   "cell_type": "markdown",
   "id": "ef69baa0",
   "metadata": {},
   "source": [
    "Range with frequency in months/years"
   ]
  },
  {
   "cell_type": "code",
   "execution_count": 30,
   "id": "c13a2963",
   "metadata": {},
   "outputs": [
    {
     "data": {
      "text/plain": [
       "[DarianCalendarDate(214, 1, 1),\n",
       " DarianCalendarDate(214, 2, 1),\n",
       " DarianCalendarDate(214, 3, 1),\n",
       " DarianCalendarDate(214, 4, 1),\n",
       " DarianCalendarDate(214, 5, 1),\n",
       " DarianCalendarDate(214, 6, 1),\n",
       " DarianCalendarDate(214, 7, 1),\n",
       " DarianCalendarDate(214, 8, 1),\n",
       " DarianCalendarDate(214, 9, 1),\n",
       " DarianCalendarDate(214, 10, 1),\n",
       " DarianCalendarDate(214, 11, 1),\n",
       " DarianCalendarDate(214, 12, 1),\n",
       " DarianCalendarDate(214, 13, 1),\n",
       " DarianCalendarDate(214, 14, 1),\n",
       " DarianCalendarDate(214, 15, 1),\n",
       " DarianCalendarDate(214, 16, 1),\n",
       " DarianCalendarDate(214, 17, 1),\n",
       " DarianCalendarDate(214, 18, 1),\n",
       " DarianCalendarDate(214, 19, 1),\n",
       " DarianCalendarDate(214, 20, 1),\n",
       " DarianCalendarDate(214, 21, 1),\n",
       " DarianCalendarDate(214, 22, 1),\n",
       " DarianCalendarDate(214, 23, 1),\n",
       " DarianCalendarDate(214, 24, 1),\n",
       " DarianCalendarDate(215, 1, 1)]"
      ]
     },
     "execution_count": 30,
     "metadata": {},
     "output_type": "execute_result"
    }
   ],
   "source": [
    "mdt.mars_date_range(\"214/01/01\", \"215/01/01\", freq=\"month\")\n",
    "\n"
   ]
  },
  {
   "cell_type": "code",
   "execution_count": 31,
   "id": "04813a01",
   "metadata": {},
   "outputs": [
    {
     "data": {
      "text/plain": [
       "[DarianCalendarDate(214, 1, 1),\n",
       " DarianCalendarDate(215, 1, 1),\n",
       " DarianCalendarDate(216, 1, 1)]"
      ]
     },
     "execution_count": 31,
     "metadata": {},
     "output_type": "execute_result"
    }
   ],
   "source": [
    "mdt.mars_date_range(\"214/01/01\", \"216/01/01\", freq=\"year\")\n"
   ]
  },
  {
   "cell_type": "markdown",
   "id": "cc85e61d",
   "metadata": {},
   "source": [
    "Generate dataframe of all sols in a Martian year"
   ]
  },
  {
   "cell_type": "code",
   "execution_count": 32,
   "id": "32676f50",
   "metadata": {},
   "outputs": [
    {
     "data": {
      "application/vnd.microsoft.datawrangler.viewer.v0+json": {
       "columns": [
        {
         "name": "index",
         "rawType": "int64",
         "type": "integer"
        },
        {
         "name": "MarsDate",
         "rawType": "object",
         "type": "unknown"
        }
       ],
       "ref": "4c820e24-0711-4d96-94f4-9f78bff03381",
       "rows": [
        [
         "0",
         "214/01/01"
        ],
        [
         "1",
         "214/01/02"
        ],
        [
         "2",
         "214/01/03"
        ],
        [
         "3",
         "214/01/04"
        ],
        [
         "4",
         "214/01/05"
        ]
       ],
       "shape": {
        "columns": 1,
        "rows": 5
       }
      },
      "text/html": [
       "<div>\n",
       "<style scoped>\n",
       "    .dataframe tbody tr th:only-of-type {\n",
       "        vertical-align: middle;\n",
       "    }\n",
       "\n",
       "    .dataframe tbody tr th {\n",
       "        vertical-align: top;\n",
       "    }\n",
       "\n",
       "    .dataframe thead th {\n",
       "        text-align: right;\n",
       "    }\n",
       "</style>\n",
       "<table border=\"1\" class=\"dataframe\">\n",
       "  <thead>\n",
       "    <tr style=\"text-align: right;\">\n",
       "      <th></th>\n",
       "      <th>MarsDate</th>\n",
       "    </tr>\n",
       "  </thead>\n",
       "  <tbody>\n",
       "    <tr>\n",
       "      <th>0</th>\n",
       "      <td>214/01/01</td>\n",
       "    </tr>\n",
       "    <tr>\n",
       "      <th>1</th>\n",
       "      <td>214/01/02</td>\n",
       "    </tr>\n",
       "    <tr>\n",
       "      <th>2</th>\n",
       "      <td>214/01/03</td>\n",
       "    </tr>\n",
       "    <tr>\n",
       "      <th>3</th>\n",
       "      <td>214/01/04</td>\n",
       "    </tr>\n",
       "    <tr>\n",
       "      <th>4</th>\n",
       "      <td>214/01/05</td>\n",
       "    </tr>\n",
       "  </tbody>\n",
       "</table>\n",
       "</div>"
      ],
      "text/plain": [
       "    MarsDate\n",
       "0  214/01/01\n",
       "1  214/01/02\n",
       "2  214/01/03\n",
       "3  214/01/04\n",
       "4  214/01/05"
      ]
     },
     "metadata": {},
     "output_type": "display_data"
    },
    {
     "data": {
      "application/vnd.microsoft.datawrangler.viewer.v0+json": {
       "columns": [
        {
         "name": "index",
         "rawType": "int64",
         "type": "integer"
        },
        {
         "name": "MarsDate",
         "rawType": "object",
         "type": "unknown"
        }
       ],
       "ref": "e5798fee-8c10-463d-b4a7-2c34bbdf80a2",
       "rows": [
        [
         "1332",
         "215/24/24"
        ],
        [
         "1333",
         "215/24/25"
        ],
        [
         "1334",
         "215/24/26"
        ],
        [
         "1335",
         "215/24/27"
        ],
        [
         "1336",
         "215/24/28"
        ]
       ],
       "shape": {
        "columns": 1,
        "rows": 5
       }
      },
      "text/html": [
       "<div>\n",
       "<style scoped>\n",
       "    .dataframe tbody tr th:only-of-type {\n",
       "        vertical-align: middle;\n",
       "    }\n",
       "\n",
       "    .dataframe tbody tr th {\n",
       "        vertical-align: top;\n",
       "    }\n",
       "\n",
       "    .dataframe thead th {\n",
       "        text-align: right;\n",
       "    }\n",
       "</style>\n",
       "<table border=\"1\" class=\"dataframe\">\n",
       "  <thead>\n",
       "    <tr style=\"text-align: right;\">\n",
       "      <th></th>\n",
       "      <th>MarsDate</th>\n",
       "    </tr>\n",
       "  </thead>\n",
       "  <tbody>\n",
       "    <tr>\n",
       "      <th>1332</th>\n",
       "      <td>215/24/24</td>\n",
       "    </tr>\n",
       "    <tr>\n",
       "      <th>1333</th>\n",
       "      <td>215/24/25</td>\n",
       "    </tr>\n",
       "    <tr>\n",
       "      <th>1334</th>\n",
       "      <td>215/24/26</td>\n",
       "    </tr>\n",
       "    <tr>\n",
       "      <th>1335</th>\n",
       "      <td>215/24/27</td>\n",
       "    </tr>\n",
       "    <tr>\n",
       "      <th>1336</th>\n",
       "      <td>215/24/28</td>\n",
       "    </tr>\n",
       "  </tbody>\n",
       "</table>\n",
       "</div>"
      ],
      "text/plain": [
       "       MarsDate\n",
       "1332  215/24/24\n",
       "1333  215/24/25\n",
       "1334  215/24/26\n",
       "1335  215/24/27\n",
       "1336  215/24/28"
      ]
     },
     "metadata": {},
     "output_type": "display_data"
    }
   ],
   "source": [
    "year_214 = mdt.mars_date_range(\"0214/01/01\", \"215/24/28\", freq=\"sol\")\n",
    "all_sols = pd.DataFrame({\"MarsDate\": year_214})\n",
    "\n",
    "display(all_sols.head())\n",
    "display(all_sols.tail())\n"
   ]
  },
  {
   "cell_type": "markdown",
   "id": "0c7442a9",
   "metadata": {},
   "source": [
    "Get Martian week, season, or sol-of-year"
   ]
  },
  {
   "cell_type": "code",
   "execution_count": 33,
   "id": "1c98e1ec",
   "metadata": {},
   "outputs": [
    {
     "data": {
      "text/plain": [
       "76"
      ]
     },
     "execution_count": 33,
     "metadata": {},
     "output_type": "execute_result"
    }
   ],
   "source": [
    "mdt.get_martian_week(mdate2)\n",
    "\n",
    "\n"
   ]
  },
  {
   "cell_type": "code",
   "execution_count": 34,
   "id": "fbb3d0b8",
   "metadata": {},
   "outputs": [
    {
     "data": {
      "text/plain": [
       "531"
      ]
     },
     "execution_count": 34,
     "metadata": {},
     "output_type": "execute_result"
    }
   ],
   "source": [
    "mdate2.sol_of_year()\n"
   ]
  },
  {
   "cell_type": "markdown",
   "id": "9c73d46e",
   "metadata": {},
   "source": [
    "Weekday name"
   ]
  },
  {
   "cell_type": "code",
   "execution_count": 35,
   "id": "b7a19e2a",
   "metadata": {},
   "outputs": [
    {
     "data": {
      "text/plain": [
       "5"
      ]
     },
     "execution_count": 35,
     "metadata": {},
     "output_type": "execute_result"
    }
   ],
   "source": [
    "mdate2.weekday()\n",
    "\n"
   ]
  },
  {
   "cell_type": "code",
   "execution_count": 36,
   "id": "35eb969e",
   "metadata": {},
   "outputs": [
    {
     "data": {
      "text/plain": [
       "'Sol Jovis'"
      ]
     },
     "execution_count": 36,
     "metadata": {},
     "output_type": "execute_result"
    }
   ],
   "source": [
    "mdate2.weekday_name()\n"
   ]
  },
  {
   "cell_type": "markdown",
   "id": "5938a5f9",
   "metadata": {},
   "source": [
    "### Time"
   ]
  },
  {
   "cell_type": "code",
   "execution_count": 37,
   "id": "a6a56d77",
   "metadata": {},
   "outputs": [
    {
     "name": "stdout",
     "output_type": "stream",
     "text": [
      "t1: 214/14/28 12:30:00\n",
      "t2: 214/14/28 15:00:00\n",
      "Difference: MarsTimedelta(+0.10416666665696539 sols)\n"
     ]
    }
   ],
   "source": [
    "t1 = mdt.MarsDateTime(214, 14, 28, 12, 30, 0)\n",
    "t2 = mdt.MarsDateTime(214, 14, 28, 15, 0, 0)\n",
    "\n",
    "print(\"t1:\", t1)\n",
    "print(\"t2:\", t2)\n",
    "print(\"Difference:\", t2 - t1)\n",
    "\n"
   ]
  },
  {
   "cell_type": "markdown",
   "id": "d493a0f9",
   "metadata": {},
   "source": [
    "Adding timedelta"
   ]
  },
  {
   "cell_type": "code",
   "execution_count": 38,
   "id": "030e2674",
   "metadata": {},
   "outputs": [
    {
     "name": "stdout",
     "output_type": "stream",
     "text": [
      "t1 + 0.5 sols: 214/15/01 00:30:00\n"
     ]
    }
   ],
   "source": [
    "td = mdt.MarsTimedelta(0.5)\n",
    "print(\"t1 + 0.5 sols:\", t1 + td)\n",
    "\n"
   ]
  },
  {
   "cell_type": "markdown",
   "id": "62622e1e",
   "metadata": {},
   "source": [
    "Rounding/Flooring"
   ]
  },
  {
   "cell_type": "code",
   "execution_count": 39,
   "id": "5f394933",
   "metadata": {},
   "outputs": [
    {
     "name": "stdout",
     "output_type": "stream",
     "text": [
      "t1.floor('hour'): 214/14/28 12:00:00\n",
      "t1.ceil('hour'): 214/14/28 13:00:00\n",
      "t1.round('minute'): 214/14/28 12:30:00\n"
     ]
    }
   ],
   "source": [
    "print(\"t1.floor('hour'):\", t1.floor(\"hour\"))\n",
    "print(\"t1.ceil('hour'):\", t1.ceil(\"hour\"))\n",
    "print(\"t1.round('minute'):\", t1.round(\"minute\"))\n",
    "\n"
   ]
  },
  {
   "cell_type": "markdown",
   "id": "1e12689f",
   "metadata": {},
   "source": [
    "JSON/YAML compatibility"
   ]
  },
  {
   "cell_type": "code",
   "execution_count": 40,
   "id": "1f34d018",
   "metadata": {},
   "outputs": [
    {
     "name": "stdout",
     "output_type": "stream",
     "text": [
      "JSON: {\"year\": 214, \"month\": 14, \"sol\": 28, \"calendar\": \"DarianCalendar\", \"hour\": 12, \"minute\": 30, \"second\": 0}\n",
      "YAML: calendar: DarianCalendar\n",
      "hour: 12\n",
      "minute: 30\n",
      "month: 14\n",
      "second: 0\n",
      "sol: 28\n",
      "year: 214\n",
      "\n"
     ]
    }
   ],
   "source": [
    "j = t1.to_json()\n",
    "y = t1.to_yaml()\n",
    "print(\"JSON:\", j)\n",
    "print(\"YAML:\", y)\n"
   ]
  },
  {
   "cell_type": "markdown",
   "id": "6dab14d9",
   "metadata": {},
   "source": [
    "### Behavior"
   ]
  },
  {
   "cell_type": "code",
   "execution_count": 41,
   "id": "49cdb8a6",
   "metadata": {},
   "outputs": [
    {
     "name": "stdout",
     "output_type": "stream",
     "text": [
      "Year 0001 leap? True\n",
      "Year 0002 leap? False\n",
      "Year 0003 leap? True\n",
      "Year 0004 leap? False\n",
      "Year 0005 leap? True\n",
      "Year 0006 leap? False\n",
      "Year 0007 leap? True\n",
      "Year 0008 leap? False\n",
      "Year 0009 leap? True\n",
      "Year 0010 leap? True\n",
      "Year 0011 leap? True\n",
      "Year 0012 leap? False\n"
     ]
    }
   ],
   "source": [
    "darian = mdt.DarianCalendar()\n",
    "for y in range(1, 13):\n",
    "    print(f\"Year {y:04d} leap? {darian.is_leap_year(y)}\")\n"
   ]
  },
  {
   "cell_type": "markdown",
   "id": "e352f7b3",
   "metadata": {},
   "source": [
    "Inspect month lengths"
   ]
  },
  {
   "cell_type": "code",
   "execution_count": 42,
   "id": "958e0777",
   "metadata": {},
   "outputs": [
    {
     "data": {
      "text/plain": [
       "[28,\n",
       " 28,\n",
       " 28,\n",
       " 28,\n",
       " 28,\n",
       " 27,\n",
       " 28,\n",
       " 28,\n",
       " 28,\n",
       " 28,\n",
       " 28,\n",
       " 27,\n",
       " 28,\n",
       " 28,\n",
       " 28,\n",
       " 28,\n",
       " 28,\n",
       " 27,\n",
       " 28,\n",
       " 28,\n",
       " 28,\n",
       " 28,\n",
       " 28,\n",
       " 28]"
      ]
     },
     "execution_count": 42,
     "metadata": {},
     "output_type": "execute_result"
    }
   ],
   "source": [
    "darian.month_lengths(10)\n"
   ]
  },
  {
   "cell_type": "code",
   "execution_count": 43,
   "id": "5ce89cf3",
   "metadata": {},
   "outputs": [
    {
     "data": {
      "text/plain": [
       "[28,\n",
       " 28,\n",
       " 28,\n",
       " 28,\n",
       " 28,\n",
       " 27,\n",
       " 28,\n",
       " 28,\n",
       " 28,\n",
       " 28,\n",
       " 28,\n",
       " 27,\n",
       " 28,\n",
       " 28,\n",
       " 28,\n",
       " 28,\n",
       " 28,\n",
       " 27,\n",
       " 28,\n",
       " 28,\n",
       " 28,\n",
       " 28,\n",
       " 28,\n",
       " 27]"
      ]
     },
     "execution_count": 43,
     "metadata": {},
     "output_type": "execute_result"
    }
   ],
   "source": [
    "darian.month_lengths(100)"
   ]
  },
  {
   "cell_type": "markdown",
   "id": "bd46d167",
   "metadata": {},
   "source": [
    "Count total sols per year"
   ]
  },
  {
   "cell_type": "code",
   "execution_count": 44,
   "id": "44c86da7",
   "metadata": {},
   "outputs": [
    {
     "data": {
      "text/plain": [
       "669"
      ]
     },
     "execution_count": 44,
     "metadata": {},
     "output_type": "execute_result"
    }
   ],
   "source": [
    "sum(darian.month_lengths(1))"
   ]
  },
  {
   "cell_type": "markdown",
   "id": "9227115f",
   "metadata": {},
   "source": [
    "### Arithmetic and Timedelta"
   ]
  },
  {
   "cell_type": "markdown",
   "id": "f8e9e784",
   "metadata": {},
   "source": [
    "Date arithmetic"
   ]
  },
  {
   "cell_type": "code",
   "execution_count": 45,
   "id": "5dc6eb32",
   "metadata": {},
   "outputs": [
    {
     "name": "stdout",
     "output_type": "stream",
     "text": [
      "mdate: 214/14/26\n",
      "d+10: 214/15/08\n",
      "d-10: 214/14/16\n"
     ]
    }
   ],
   "source": [
    "mdate = mdt.MarsDate(214, 14, 26)\n",
    "delta = mdt.MarsTimedelta(sols=10)\n",
    "mdate_plus = mdate + delta\n",
    "mdate_minus = mdate - delta\n",
    "print(\"mdate:\", mdate)\n",
    "print(\"d+10:\", mdate_plus)\n",
    "print(\"d-10:\", mdate_minus)\n"
   ]
  },
  {
   "cell_type": "markdown",
   "id": "9d962d4b",
   "metadata": {},
   "source": [
    "Difference between two dates"
   ]
  },
  {
   "cell_type": "code",
   "execution_count": 46,
   "id": "32bbc8b3",
   "metadata": {},
   "outputs": [
    {
     "name": "stdout",
     "output_type": "stream",
     "text": [
      "Difference in sols: 10.0\n"
     ]
    }
   ],
   "source": [
    "mdate_diff = mdate_plus - mdate\n",
    "print(\"Difference in sols:\", mdate_diff.sols)\n"
   ]
  },
  {
   "cell_type": "markdown",
   "id": "17aa9251",
   "metadata": {},
   "source": [
    "Add/subtract years and months"
   ]
  },
  {
   "cell_type": "code",
   "execution_count": 47,
   "id": "2b4e60ec",
   "metadata": {},
   "outputs": [
    {
     "data": {
      "text/plain": [
       "DarianCalendarDate(202, 2, 15)"
      ]
     },
     "execution_count": 47,
     "metadata": {},
     "output_type": "execute_result"
    }
   ],
   "source": [
    "mdate = mdt.MarsDate(201, 23, 15)\n",
    "\n",
    "mdate.add_months(3)\n",
    "\n"
   ]
  },
  {
   "cell_type": "code",
   "execution_count": 48,
   "id": "a73c39f5",
   "metadata": {},
   "outputs": [
    {
     "data": {
      "text/plain": [
       "DarianCalendarDate(200, 22, 15)"
      ]
     },
     "execution_count": 48,
     "metadata": {},
     "output_type": "execute_result"
    }
   ],
   "source": [
    "mdate.add_months(-25)\n"
   ]
  },
  {
   "cell_type": "code",
   "execution_count": 49,
   "id": "ed68b417",
   "metadata": {},
   "outputs": [
    {
     "data": {
      "text/plain": [
       "DarianCalendarDate(203, 23, 15)"
      ]
     },
     "execution_count": 49,
     "metadata": {},
     "output_type": "execute_result"
    }
   ],
   "source": [
    "mdate.add_years(2)\n"
   ]
  },
  {
   "cell_type": "code",
   "execution_count": 50,
   "id": "0bffd973",
   "metadata": {},
   "outputs": [
    {
     "data": {
      "text/plain": [
       "DarianCalendarDate(202, 17, 13)"
      ]
     },
     "execution_count": 50,
     "metadata": {},
     "output_type": "execute_result"
    }
   ],
   "source": [
    "mdate.add_sols(500)\n"
   ]
  },
  {
   "cell_type": "markdown",
   "id": "0b44fe1c",
   "metadata": {},
   "source": [
    "Floor/ceil/round to month or year"
   ]
  },
  {
   "cell_type": "code",
   "execution_count": 51,
   "id": "a1d99a78",
   "metadata": {},
   "outputs": [
    {
     "data": {
      "text/plain": [
       "DarianCalendarDate(201, 22, 1)"
      ]
     },
     "execution_count": 51,
     "metadata": {},
     "output_type": "execute_result"
    }
   ],
   "source": [
    "mdate = mdt.MarsDate(201, 22, 15)\n",
    "\n",
    "mdate.floor(\"month\")\n",
    "\n"
   ]
  },
  {
   "cell_type": "code",
   "execution_count": 52,
   "id": "d1c70fcb",
   "metadata": {},
   "outputs": [
    {
     "data": {
      "text/plain": [
       "DarianCalendarDate(201, 24, 28)"
      ]
     },
     "execution_count": 52,
     "metadata": {},
     "output_type": "execute_result"
    }
   ],
   "source": [
    "mdate.ceil(\"year\")\n"
   ]
  },
  {
   "cell_type": "code",
   "execution_count": 53,
   "id": "c6625815",
   "metadata": {},
   "outputs": [
    {
     "data": {
      "text/plain": [
       "DarianCalendarDate(201, 23, 1)"
      ]
     },
     "execution_count": 53,
     "metadata": {},
     "output_type": "execute_result"
    }
   ],
   "source": [
    "mdate.round(\"month\")\n"
   ]
  },
  {
   "cell_type": "code",
   "execution_count": 54,
   "id": "3b746bf7",
   "metadata": {},
   "outputs": [
    {
     "data": {
      "text/plain": [
       "DarianCalendarDate(202, 1, 1)"
      ]
     },
     "execution_count": 54,
     "metadata": {},
     "output_type": "execute_result"
    }
   ],
   "source": [
    "mdate.round(\"year\")\n"
   ]
  },
  {
   "cell_type": "markdown",
   "id": "9fdd264e",
   "metadata": {},
   "source": [
    "Vectorized date arithmetic"
   ]
  },
  {
   "cell_type": "code",
   "execution_count": 55,
   "id": "0a21ee25",
   "metadata": {},
   "outputs": [
    {
     "data": {
      "text/plain": [
       "MarsDateArray([DarianCalendarDate(201, 22, 20) DarianCalendarDate(214, 15, 13)\n",
       " DarianCalendarDate(214, 14, 21)])"
      ]
     },
     "execution_count": 55,
     "metadata": {},
     "output_type": "execute_result"
    }
   ],
   "source": [
    "arr = mdt.MarsDateArray([mdate, mdate_plus, mdate_minus])\n",
    "arr + mdt.MarsTimedelta(sols=5)\n",
    "\n"
   ]
  },
  {
   "cell_type": "markdown",
   "id": "0b2b45cc",
   "metadata": {},
   "source": [
    "Difference across an array"
   ]
  },
  {
   "cell_type": "code",
   "execution_count": 56,
   "id": "8739c8bd",
   "metadata": {},
   "outputs": [
    {
     "data": {
      "text/plain": [
       "array([None, MarsTimedelta(+8490.0 sols), MarsTimedelta(-20.0 sols)],\n",
       "      dtype=object)"
      ]
     },
     "execution_count": 56,
     "metadata": {},
     "output_type": "execute_result"
    }
   ],
   "source": [
    "arr.diff()"
   ]
  },
  {
   "cell_type": "markdown",
   "id": "b4a87ae4",
   "metadata": {},
   "source": [
    "## Pandas"
   ]
  },
  {
   "cell_type": "markdown",
   "id": "92754fee",
   "metadata": {},
   "source": [
    "Let's bring in some data."
   ]
  },
  {
   "cell_type": "code",
   "execution_count": 57,
   "id": "d9c90b6e",
   "metadata": {},
   "outputs": [
    {
     "data": {
      "text/plain": [
       "(4394, 20)"
      ]
     },
     "metadata": {},
     "output_type": "display_data"
    },
    {
     "data": {
      "application/vnd.microsoft.datawrangler.viewer.v0+json": {
       "columns": [
        {
         "name": "index",
         "rawType": "int64",
         "type": "integer"
        },
        {
         "name": "sol",
         "rawType": "int64",
         "type": "integer"
        },
        {
         "name": "earth_date_utc",
         "rawType": "object",
         "type": "string"
        },
        {
         "name": "mars_month",
         "rawType": "int64",
         "type": "integer"
        },
        {
         "name": "solar_longitude_degrees",
         "rawType": "int64",
         "type": "integer"
        },
        {
         "name": "air_temperature_max",
         "rawType": "int64",
         "type": "integer"
        },
        {
         "name": "air_temperature_min",
         "rawType": "int64",
         "type": "integer"
        },
        {
         "name": "air_temperature_unit",
         "rawType": "object",
         "type": "string"
        },
        {
         "name": "ground_temperature_max",
         "rawType": "int64",
         "type": "integer"
        },
        {
         "name": "ground_temperature_min",
         "rawType": "int64",
         "type": "integer"
        },
        {
         "name": "ground_temperature_unit",
         "rawType": "object",
         "type": "string"
        },
        {
         "name": "pressure_current",
         "rawType": "int64",
         "type": "integer"
        },
        {
         "name": "pressure_unit",
         "rawType": "object",
         "type": "string"
        },
        {
         "name": "sunrise_and_sunset_max",
         "rawType": "object",
         "type": "string"
        },
        {
         "name": "sunrise_and_sunset_min",
         "rawType": "object",
         "type": "string"
        },
        {
         "name": "ultraviolet_radiation_current",
         "rawType": "object",
         "type": "string"
        },
        {
         "name": "ultraviolet_radiation_numerical",
         "rawType": "float64",
         "type": "float"
        },
        {
         "name": "darian_year",
         "rawType": "int64",
         "type": "integer"
        },
        {
         "name": "darian_month",
         "rawType": "int64",
         "type": "integer"
        },
        {
         "name": "darian_sol",
         "rawType": "int64",
         "type": "integer"
        },
        {
         "name": "darian_date",
         "rawType": "object",
         "type": "string"
        }
       ],
       "ref": "c128fb68-c754-4c3b-b668-1a12c9883865",
       "rows": [
        [
         "0",
         "10",
         "2012-08-16",
         "6",
         "155",
         "-16",
         "-75",
         "C",
         "8",
         "-83",
         "C",
         "739",
         "Pa",
         "05:28",
         "17:22",
         "Very High",
         "4.0",
         "214",
         "12",
         "22",
         "214-12-22"
        ],
        [
         "1",
         "11",
         "2012-08-17",
         "6",
         "156",
         "-11",
         "-76",
         "C",
         "9",
         "-83",
         "C",
         "740",
         "Pa",
         "05:28",
         "17:21",
         "Very High",
         "4.0",
         "214",
         "12",
         "23",
         "214-12-23"
        ],
        [
         "2",
         "12",
         "2012-08-18",
         "6",
         "156",
         "-18",
         "-76",
         "C",
         "8",
         "-82",
         "C",
         "741",
         "Pa",
         "05:28",
         "17:21",
         "Very High",
         "4.0",
         "214",
         "12",
         "24",
         "214-12-24"
        ],
        [
         "3",
         "13",
         "2012-08-19",
         "6",
         "157",
         "-15",
         "-74",
         "C",
         "8",
         "-80",
         "C",
         "732",
         "Pa",
         "05:28",
         "17:21",
         "Very High",
         "4.0",
         "214",
         "12",
         "25",
         "214-12-25"
        ],
        [
         "4",
         "14",
         "2012-08-20",
         "6",
         "157",
         "-16",
         "-74",
         "C",
         "9",
         "-82",
         "C",
         "740",
         "Pa",
         "05:27",
         "17:21",
         "Very High",
         "4.0",
         "214",
         "12",
         "26",
         "214-12-26"
        ]
       ],
       "shape": {
        "columns": 20,
        "rows": 5
       }
      },
      "text/html": [
       "<div>\n",
       "<style scoped>\n",
       "    .dataframe tbody tr th:only-of-type {\n",
       "        vertical-align: middle;\n",
       "    }\n",
       "\n",
       "    .dataframe tbody tr th {\n",
       "        vertical-align: top;\n",
       "    }\n",
       "\n",
       "    .dataframe thead th {\n",
       "        text-align: right;\n",
       "    }\n",
       "</style>\n",
       "<table border=\"1\" class=\"dataframe\">\n",
       "  <thead>\n",
       "    <tr style=\"text-align: right;\">\n",
       "      <th></th>\n",
       "      <th>sol</th>\n",
       "      <th>earth_date_utc</th>\n",
       "      <th>mars_month</th>\n",
       "      <th>solar_longitude_degrees</th>\n",
       "      <th>air_temperature_max</th>\n",
       "      <th>air_temperature_min</th>\n",
       "      <th>air_temperature_unit</th>\n",
       "      <th>ground_temperature_max</th>\n",
       "      <th>ground_temperature_min</th>\n",
       "      <th>ground_temperature_unit</th>\n",
       "      <th>pressure_current</th>\n",
       "      <th>pressure_unit</th>\n",
       "      <th>sunrise_and_sunset_max</th>\n",
       "      <th>sunrise_and_sunset_min</th>\n",
       "      <th>ultraviolet_radiation_current</th>\n",
       "      <th>ultraviolet_radiation_numerical</th>\n",
       "      <th>darian_year</th>\n",
       "      <th>darian_month</th>\n",
       "      <th>darian_sol</th>\n",
       "      <th>darian_date</th>\n",
       "    </tr>\n",
       "  </thead>\n",
       "  <tbody>\n",
       "    <tr>\n",
       "      <th>0</th>\n",
       "      <td>10</td>\n",
       "      <td>2012-08-16</td>\n",
       "      <td>6</td>\n",
       "      <td>155</td>\n",
       "      <td>-16</td>\n",
       "      <td>-75</td>\n",
       "      <td>C</td>\n",
       "      <td>8</td>\n",
       "      <td>-83</td>\n",
       "      <td>C</td>\n",
       "      <td>739</td>\n",
       "      <td>Pa</td>\n",
       "      <td>05:28</td>\n",
       "      <td>17:22</td>\n",
       "      <td>Very High</td>\n",
       "      <td>4.0</td>\n",
       "      <td>214</td>\n",
       "      <td>12</td>\n",
       "      <td>22</td>\n",
       "      <td>214-12-22</td>\n",
       "    </tr>\n",
       "    <tr>\n",
       "      <th>1</th>\n",
       "      <td>11</td>\n",
       "      <td>2012-08-17</td>\n",
       "      <td>6</td>\n",
       "      <td>156</td>\n",
       "      <td>-11</td>\n",
       "      <td>-76</td>\n",
       "      <td>C</td>\n",
       "      <td>9</td>\n",
       "      <td>-83</td>\n",
       "      <td>C</td>\n",
       "      <td>740</td>\n",
       "      <td>Pa</td>\n",
       "      <td>05:28</td>\n",
       "      <td>17:21</td>\n",
       "      <td>Very High</td>\n",
       "      <td>4.0</td>\n",
       "      <td>214</td>\n",
       "      <td>12</td>\n",
       "      <td>23</td>\n",
       "      <td>214-12-23</td>\n",
       "    </tr>\n",
       "    <tr>\n",
       "      <th>2</th>\n",
       "      <td>12</td>\n",
       "      <td>2012-08-18</td>\n",
       "      <td>6</td>\n",
       "      <td>156</td>\n",
       "      <td>-18</td>\n",
       "      <td>-76</td>\n",
       "      <td>C</td>\n",
       "      <td>8</td>\n",
       "      <td>-82</td>\n",
       "      <td>C</td>\n",
       "      <td>741</td>\n",
       "      <td>Pa</td>\n",
       "      <td>05:28</td>\n",
       "      <td>17:21</td>\n",
       "      <td>Very High</td>\n",
       "      <td>4.0</td>\n",
       "      <td>214</td>\n",
       "      <td>12</td>\n",
       "      <td>24</td>\n",
       "      <td>214-12-24</td>\n",
       "    </tr>\n",
       "    <tr>\n",
       "      <th>3</th>\n",
       "      <td>13</td>\n",
       "      <td>2012-08-19</td>\n",
       "      <td>6</td>\n",
       "      <td>157</td>\n",
       "      <td>-15</td>\n",
       "      <td>-74</td>\n",
       "      <td>C</td>\n",
       "      <td>8</td>\n",
       "      <td>-80</td>\n",
       "      <td>C</td>\n",
       "      <td>732</td>\n",
       "      <td>Pa</td>\n",
       "      <td>05:28</td>\n",
       "      <td>17:21</td>\n",
       "      <td>Very High</td>\n",
       "      <td>4.0</td>\n",
       "      <td>214</td>\n",
       "      <td>12</td>\n",
       "      <td>25</td>\n",
       "      <td>214-12-25</td>\n",
       "    </tr>\n",
       "    <tr>\n",
       "      <th>4</th>\n",
       "      <td>14</td>\n",
       "      <td>2012-08-20</td>\n",
       "      <td>6</td>\n",
       "      <td>157</td>\n",
       "      <td>-16</td>\n",
       "      <td>-74</td>\n",
       "      <td>C</td>\n",
       "      <td>9</td>\n",
       "      <td>-82</td>\n",
       "      <td>C</td>\n",
       "      <td>740</td>\n",
       "      <td>Pa</td>\n",
       "      <td>05:27</td>\n",
       "      <td>17:21</td>\n",
       "      <td>Very High</td>\n",
       "      <td>4.0</td>\n",
       "      <td>214</td>\n",
       "      <td>12</td>\n",
       "      <td>26</td>\n",
       "      <td>214-12-26</td>\n",
       "    </tr>\n",
       "  </tbody>\n",
       "</table>\n",
       "</div>"
      ],
      "text/plain": [
       "   sol earth_date_utc  mars_month  solar_longitude_degrees  \\\n",
       "0   10     2012-08-16           6                      155   \n",
       "1   11     2012-08-17           6                      156   \n",
       "2   12     2012-08-18           6                      156   \n",
       "3   13     2012-08-19           6                      157   \n",
       "4   14     2012-08-20           6                      157   \n",
       "\n",
       "   air_temperature_max  air_temperature_min air_temperature_unit  \\\n",
       "0                  -16                  -75                    C   \n",
       "1                  -11                  -76                    C   \n",
       "2                  -18                  -76                    C   \n",
       "3                  -15                  -74                    C   \n",
       "4                  -16                  -74                    C   \n",
       "\n",
       "   ground_temperature_max  ground_temperature_min ground_temperature_unit  \\\n",
       "0                       8                     -83                       C   \n",
       "1                       9                     -83                       C   \n",
       "2                       8                     -82                       C   \n",
       "3                       8                     -80                       C   \n",
       "4                       9                     -82                       C   \n",
       "\n",
       "   pressure_current pressure_unit sunrise_and_sunset_max  \\\n",
       "0               739            Pa                  05:28   \n",
       "1               740            Pa                  05:28   \n",
       "2               741            Pa                  05:28   \n",
       "3               732            Pa                  05:28   \n",
       "4               740            Pa                  05:27   \n",
       "\n",
       "  sunrise_and_sunset_min ultraviolet_radiation_current  \\\n",
       "0                  17:22                     Very High   \n",
       "1                  17:21                     Very High   \n",
       "2                  17:21                     Very High   \n",
       "3                  17:21                     Very High   \n",
       "4                  17:21                     Very High   \n",
       "\n",
       "   ultraviolet_radiation_numerical  darian_year  darian_month  darian_sol  \\\n",
       "0                              4.0          214            12          22   \n",
       "1                              4.0          214            12          23   \n",
       "2                              4.0          214            12          24   \n",
       "3                              4.0          214            12          25   \n",
       "4                              4.0          214            12          26   \n",
       "\n",
       "  darian_date  \n",
       "0   214-12-22  \n",
       "1   214-12-23  \n",
       "2   214-12-24  \n",
       "3   214-12-25  \n",
       "4   214-12-26  "
      ]
     },
     "metadata": {},
     "output_type": "display_data"
    }
   ],
   "source": [
    "# ---------------- Dataset ----------------\n",
    "weather_data = pd.read_csv(os.path.join(input_data_file))\n",
    "\n",
    "display(weather_data.shape)\n",
    "display(weather_data.head())\n",
    "\n"
   ]
  },
  {
   "cell_type": "markdown",
   "id": "33722321",
   "metadata": {},
   "source": [
    "And create some sample subtables."
   ]
  },
  {
   "cell_type": "code",
   "execution_count": 58,
   "id": "21ea779f",
   "metadata": {},
   "outputs": [
    {
     "data": {
      "application/vnd.microsoft.datawrangler.viewer.v0+json": {
       "columns": [
        {
         "name": "index",
         "rawType": "object",
         "type": "string"
        },
        {
         "name": "0",
         "rawType": "object",
         "type": "unknown"
        }
       ],
       "ref": "4ef367ce-5bc1-47d3-b0d1-88132af86c27",
       "rows": [
        [
         "darian_date",
         "marsdate"
        ],
        [
         "ground_temperature_max",
         "int64"
        ]
       ],
       "shape": {
        "columns": 1,
        "rows": 2
       }
      },
      "text/plain": [
       "darian_date               marsdate\n",
       "ground_temperature_max       int64\n",
       "dtype: object"
      ]
     },
     "metadata": {},
     "output_type": "display_data"
    },
    {
     "data": {
      "application/vnd.microsoft.datawrangler.viewer.v0+json": {
       "columns": [
        {
         "name": "index",
         "rawType": "int64",
         "type": "integer"
        },
        {
         "name": "darian_date",
         "rawType": "object",
         "type": "unknown"
        },
        {
         "name": "ground_temperature_max",
         "rawType": "int64",
         "type": "integer"
        }
       ],
       "ref": "4a607246-2b56-4ad1-9dcf-fa5ba9ef651c",
       "rows": [
        [
         "0",
         "214/12/22",
         "8"
        ],
        [
         "1",
         "214/12/23",
         "9"
        ],
        [
         "2",
         "214/12/24",
         "8"
        ],
        [
         "3",
         "214/12/25",
         "8"
        ],
        [
         "4",
         "214/12/26",
         "9"
        ]
       ],
       "shape": {
        "columns": 2,
        "rows": 5
       }
      },
      "text/html": [
       "<div>\n",
       "<style scoped>\n",
       "    .dataframe tbody tr th:only-of-type {\n",
       "        vertical-align: middle;\n",
       "    }\n",
       "\n",
       "    .dataframe tbody tr th {\n",
       "        vertical-align: top;\n",
       "    }\n",
       "\n",
       "    .dataframe thead th {\n",
       "        text-align: right;\n",
       "    }\n",
       "</style>\n",
       "<table border=\"1\" class=\"dataframe\">\n",
       "  <thead>\n",
       "    <tr style=\"text-align: right;\">\n",
       "      <th></th>\n",
       "      <th>darian_date</th>\n",
       "      <th>ground_temperature_max</th>\n",
       "    </tr>\n",
       "  </thead>\n",
       "  <tbody>\n",
       "    <tr>\n",
       "      <th>0</th>\n",
       "      <td>214/12/22</td>\n",
       "      <td>8</td>\n",
       "    </tr>\n",
       "    <tr>\n",
       "      <th>1</th>\n",
       "      <td>214/12/23</td>\n",
       "      <td>9</td>\n",
       "    </tr>\n",
       "    <tr>\n",
       "      <th>2</th>\n",
       "      <td>214/12/24</td>\n",
       "      <td>8</td>\n",
       "    </tr>\n",
       "    <tr>\n",
       "      <th>3</th>\n",
       "      <td>214/12/25</td>\n",
       "      <td>8</td>\n",
       "    </tr>\n",
       "    <tr>\n",
       "      <th>4</th>\n",
       "      <td>214/12/26</td>\n",
       "      <td>9</td>\n",
       "    </tr>\n",
       "  </tbody>\n",
       "</table>\n",
       "</div>"
      ],
      "text/plain": [
       "  darian_date  ground_temperature_max\n",
       "0   214/12/22                       8\n",
       "1   214/12/23                       9\n",
       "2   214/12/24                       8\n",
       "3   214/12/25                       8\n",
       "4   214/12/26                       9"
      ]
     },
     "metadata": {},
     "output_type": "display_data"
    }
   ],
   "source": [
    "ground_temperature = weather_data[['darian_date', 'ground_temperature_max']].copy()\n",
    "ground_temperature[\"darian_date\"] = mdt.MarsDateArray(ground_temperature[\"darian_date\"])\n",
    "\n",
    "display(ground_temperature.dtypes)\n",
    "\n",
    "display(ground_temperature.head())\n"
   ]
  },
  {
   "cell_type": "code",
   "execution_count": 59,
   "id": "c443a26b",
   "metadata": {},
   "outputs": [
    {
     "data": {
      "application/vnd.microsoft.datawrangler.viewer.v0+json": {
       "columns": [
        {
         "name": "index",
         "rawType": "int64",
         "type": "integer"
        },
        {
         "name": "darian_date",
         "rawType": "object",
         "type": "unknown"
        },
        {
         "name": "pressure_current",
         "rawType": "int64",
         "type": "integer"
        }
       ],
       "ref": "81f2fe23-b054-429b-8c37-a9da8821e1d2",
       "rows": [
        [
         "0",
         "214/12/22",
         "739"
        ],
        [
         "1",
         "214/12/23",
         "740"
        ],
        [
         "2",
         "214/12/24",
         "741"
        ],
        [
         "3",
         "214/12/25",
         "732"
        ],
        [
         "4",
         "214/12/26",
         "740"
        ]
       ],
       "shape": {
        "columns": 2,
        "rows": 5
       }
      },
      "text/html": [
       "<div>\n",
       "<style scoped>\n",
       "    .dataframe tbody tr th:only-of-type {\n",
       "        vertical-align: middle;\n",
       "    }\n",
       "\n",
       "    .dataframe tbody tr th {\n",
       "        vertical-align: top;\n",
       "    }\n",
       "\n",
       "    .dataframe thead th {\n",
       "        text-align: right;\n",
       "    }\n",
       "</style>\n",
       "<table border=\"1\" class=\"dataframe\">\n",
       "  <thead>\n",
       "    <tr style=\"text-align: right;\">\n",
       "      <th></th>\n",
       "      <th>darian_date</th>\n",
       "      <th>pressure_current</th>\n",
       "    </tr>\n",
       "  </thead>\n",
       "  <tbody>\n",
       "    <tr>\n",
       "      <th>0</th>\n",
       "      <td>214/12/22</td>\n",
       "      <td>739</td>\n",
       "    </tr>\n",
       "    <tr>\n",
       "      <th>1</th>\n",
       "      <td>214/12/23</td>\n",
       "      <td>740</td>\n",
       "    </tr>\n",
       "    <tr>\n",
       "      <th>2</th>\n",
       "      <td>214/12/24</td>\n",
       "      <td>741</td>\n",
       "    </tr>\n",
       "    <tr>\n",
       "      <th>3</th>\n",
       "      <td>214/12/25</td>\n",
       "      <td>732</td>\n",
       "    </tr>\n",
       "    <tr>\n",
       "      <th>4</th>\n",
       "      <td>214/12/26</td>\n",
       "      <td>740</td>\n",
       "    </tr>\n",
       "  </tbody>\n",
       "</table>\n",
       "</div>"
      ],
      "text/plain": [
       "  darian_date  pressure_current\n",
       "0   214/12/22               739\n",
       "1   214/12/23               740\n",
       "2   214/12/24               741\n",
       "3   214/12/25               732\n",
       "4   214/12/26               740"
      ]
     },
     "execution_count": 59,
     "metadata": {},
     "output_type": "execute_result"
    }
   ],
   "source": [
    "pressure = weather_data[['darian_date', 'pressure_current']].copy()\n",
    "pressure[\"darian_date\"] = mdt.MarsDateArray(pressure[\"darian_date\"])\n",
    "\n",
    "pressure.head()\n",
    "\n"
   ]
  },
  {
   "cell_type": "markdown",
   "id": "a814fe36",
   "metadata": {},
   "source": [
    "Sorting"
   ]
  },
  {
   "cell_type": "code",
   "execution_count": 60,
   "id": "ddd7fdb3",
   "metadata": {},
   "outputs": [
    {
     "data": {
      "application/vnd.microsoft.datawrangler.viewer.v0+json": {
       "columns": [
        {
         "name": "index",
         "rawType": "int64",
         "type": "integer"
        },
        {
         "name": "darian_date",
         "rawType": "object",
         "type": "unknown"
        },
        {
         "name": "ground_temperature_max",
         "rawType": "int64",
         "type": "integer"
        }
       ],
       "ref": "eed41dfe-0a0b-4dc8-a405-ab5b1f513d3d",
       "rows": [
        [
         "4393",
         "221/12/07",
         "6"
        ],
        [
         "4392",
         "221/12/06",
         "7"
        ],
        [
         "4391",
         "221/12/05",
         "6"
        ],
        [
         "4390",
         "221/12/04",
         "2"
        ],
        [
         "4389",
         "221/12/03",
         "6"
        ]
       ],
       "shape": {
        "columns": 2,
        "rows": 5
       }
      },
      "text/html": [
       "<div>\n",
       "<style scoped>\n",
       "    .dataframe tbody tr th:only-of-type {\n",
       "        vertical-align: middle;\n",
       "    }\n",
       "\n",
       "    .dataframe tbody tr th {\n",
       "        vertical-align: top;\n",
       "    }\n",
       "\n",
       "    .dataframe thead th {\n",
       "        text-align: right;\n",
       "    }\n",
       "</style>\n",
       "<table border=\"1\" class=\"dataframe\">\n",
       "  <thead>\n",
       "    <tr style=\"text-align: right;\">\n",
       "      <th></th>\n",
       "      <th>darian_date</th>\n",
       "      <th>ground_temperature_max</th>\n",
       "    </tr>\n",
       "  </thead>\n",
       "  <tbody>\n",
       "    <tr>\n",
       "      <th>4393</th>\n",
       "      <td>221/12/07</td>\n",
       "      <td>6</td>\n",
       "    </tr>\n",
       "    <tr>\n",
       "      <th>4392</th>\n",
       "      <td>221/12/06</td>\n",
       "      <td>7</td>\n",
       "    </tr>\n",
       "    <tr>\n",
       "      <th>4391</th>\n",
       "      <td>221/12/05</td>\n",
       "      <td>6</td>\n",
       "    </tr>\n",
       "    <tr>\n",
       "      <th>4390</th>\n",
       "      <td>221/12/04</td>\n",
       "      <td>2</td>\n",
       "    </tr>\n",
       "    <tr>\n",
       "      <th>4389</th>\n",
       "      <td>221/12/03</td>\n",
       "      <td>6</td>\n",
       "    </tr>\n",
       "  </tbody>\n",
       "</table>\n",
       "</div>"
      ],
      "text/plain": [
       "     darian_date  ground_temperature_max\n",
       "4393   221/12/07                       6\n",
       "4392   221/12/06                       7\n",
       "4391   221/12/05                       6\n",
       "4390   221/12/04                       2\n",
       "4389   221/12/03                       6"
      ]
     },
     "execution_count": 60,
     "metadata": {},
     "output_type": "execute_result"
    }
   ],
   "source": [
    "ground_sorted = ground_temperature.sort_values(\"darian_date\", ascending=False)\n",
    "ground_sorted.head()\n",
    "\n"
   ]
  },
  {
   "cell_type": "markdown",
   "id": "0bfcaaa3",
   "metadata": {},
   "source": [
    "Indexing"
   ]
  },
  {
   "cell_type": "code",
   "execution_count": 61,
   "id": "7ec9b53d",
   "metadata": {},
   "outputs": [
    {
     "data": {
      "application/vnd.microsoft.datawrangler.viewer.v0+json": {
       "columns": [
        {
         "name": "darian_date",
         "rawType": "object",
         "type": "unknown"
        },
        {
         "name": "ground_temperature_max",
         "rawType": "int64",
         "type": "integer"
        }
       ],
       "ref": "9e945b68-990e-4e5e-82f8-6cd4f1de630b",
       "rows": [
        [
         "221/12/07",
         "6"
        ],
        [
         "221/12/06",
         "7"
        ],
        [
         "221/12/05",
         "6"
        ],
        [
         "221/12/04",
         "2"
        ],
        [
         "221/12/03",
         "6"
        ]
       ],
       "shape": {
        "columns": 1,
        "rows": 5
       }
      },
      "text/html": [
       "<div>\n",
       "<style scoped>\n",
       "    .dataframe tbody tr th:only-of-type {\n",
       "        vertical-align: middle;\n",
       "    }\n",
       "\n",
       "    .dataframe tbody tr th {\n",
       "        vertical-align: top;\n",
       "    }\n",
       "\n",
       "    .dataframe thead th {\n",
       "        text-align: right;\n",
       "    }\n",
       "</style>\n",
       "<table border=\"1\" class=\"dataframe\">\n",
       "  <thead>\n",
       "    <tr style=\"text-align: right;\">\n",
       "      <th></th>\n",
       "      <th>ground_temperature_max</th>\n",
       "    </tr>\n",
       "    <tr>\n",
       "      <th>darian_date</th>\n",
       "      <th></th>\n",
       "    </tr>\n",
       "  </thead>\n",
       "  <tbody>\n",
       "    <tr>\n",
       "      <th>221/12/07</th>\n",
       "      <td>6</td>\n",
       "    </tr>\n",
       "    <tr>\n",
       "      <th>221/12/06</th>\n",
       "      <td>7</td>\n",
       "    </tr>\n",
       "    <tr>\n",
       "      <th>221/12/05</th>\n",
       "      <td>6</td>\n",
       "    </tr>\n",
       "    <tr>\n",
       "      <th>221/12/04</th>\n",
       "      <td>2</td>\n",
       "    </tr>\n",
       "    <tr>\n",
       "      <th>221/12/03</th>\n",
       "      <td>6</td>\n",
       "    </tr>\n",
       "  </tbody>\n",
       "</table>\n",
       "</div>"
      ],
      "text/plain": [
       "             ground_temperature_max\n",
       "darian_date                        \n",
       "221/12/07                         6\n",
       "221/12/06                         7\n",
       "221/12/05                         6\n",
       "221/12/04                         2\n",
       "221/12/03                         6"
      ]
     },
     "execution_count": 61,
     "metadata": {},
     "output_type": "execute_result"
    }
   ],
   "source": [
    "ground_sorted = ground_sorted.set_index(\"darian_date\")\n",
    "ground_sorted.head()\n",
    "\n"
   ]
  },
  {
   "cell_type": "code",
   "execution_count": 62,
   "id": "60be3216",
   "metadata": {},
   "outputs": [
    {
     "name": "stdout",
     "output_type": "stream",
     "text": [
      "First record: 214/12/22\n",
      "Last record: 221/12/07\n"
     ]
    }
   ],
   "source": [
    "print(\"First record:\", ground_sorted.index.min())\n",
    "print(\"Last record:\", ground_sorted.index.max())\n",
    "\n"
   ]
  },
  {
   "cell_type": "markdown",
   "id": "b11594ec",
   "metadata": {},
   "source": [
    "Filtering by date range"
   ]
  },
  {
   "cell_type": "code",
   "execution_count": 63,
   "id": "cd3ec3aa",
   "metadata": {},
   "outputs": [
    {
     "name": "stdout",
     "output_type": "stream",
     "text": [
      "Filtered between 214/10/01 and 214/20/01: 182 rows\n"
     ]
    },
    {
     "data": {
      "application/vnd.microsoft.datawrangler.viewer.v0+json": {
       "columns": [
        {
         "name": "darian_date",
         "rawType": "object",
         "type": "unknown"
        },
        {
         "name": "ground_temperature_max",
         "rawType": "int64",
         "type": "integer"
        }
       ],
       "ref": "2f3f7dc1-9646-4934-a470-12dc741c64d9",
       "rows": [
        [
         "214/19/17",
         "4"
        ],
        [
         "214/19/16",
         "6"
        ],
        [
         "214/19/15",
         "5"
        ],
        [
         "214/19/14",
         "7"
        ],
        [
         "214/19/09",
         "7"
        ]
       ],
       "shape": {
        "columns": 1,
        "rows": 5
       }
      },
      "text/html": [
       "<div>\n",
       "<style scoped>\n",
       "    .dataframe tbody tr th:only-of-type {\n",
       "        vertical-align: middle;\n",
       "    }\n",
       "\n",
       "    .dataframe tbody tr th {\n",
       "        vertical-align: top;\n",
       "    }\n",
       "\n",
       "    .dataframe thead th {\n",
       "        text-align: right;\n",
       "    }\n",
       "</style>\n",
       "<table border=\"1\" class=\"dataframe\">\n",
       "  <thead>\n",
       "    <tr style=\"text-align: right;\">\n",
       "      <th></th>\n",
       "      <th>ground_temperature_max</th>\n",
       "    </tr>\n",
       "    <tr>\n",
       "      <th>darian_date</th>\n",
       "      <th></th>\n",
       "    </tr>\n",
       "  </thead>\n",
       "  <tbody>\n",
       "    <tr>\n",
       "      <th>214/19/17</th>\n",
       "      <td>4</td>\n",
       "    </tr>\n",
       "    <tr>\n",
       "      <th>214/19/16</th>\n",
       "      <td>6</td>\n",
       "    </tr>\n",
       "    <tr>\n",
       "      <th>214/19/15</th>\n",
       "      <td>5</td>\n",
       "    </tr>\n",
       "    <tr>\n",
       "      <th>214/19/14</th>\n",
       "      <td>7</td>\n",
       "    </tr>\n",
       "    <tr>\n",
       "      <th>214/19/09</th>\n",
       "      <td>7</td>\n",
       "    </tr>\n",
       "  </tbody>\n",
       "</table>\n",
       "</div>"
      ],
      "text/plain": [
       "             ground_temperature_max\n",
       "darian_date                        \n",
       "214/19/17                         4\n",
       "214/19/16                         6\n",
       "214/19/15                         5\n",
       "214/19/14                         7\n",
       "214/19/09                         7"
      ]
     },
     "execution_count": 63,
     "metadata": {},
     "output_type": "execute_result"
    }
   ],
   "source": [
    "start = mdt.MarsDate.from_string(\"214-10-01\")\n",
    "end = mdt.MarsDate.from_string(\"214-20-01\")\n",
    "\n",
    "mask = (ground_sorted.index >= start) & (ground_sorted.index <= end)\n",
    "ground_filtered = ground_sorted.loc[mask]\n",
    "\n",
    "print(f\"Filtered between {start} and {end}: {ground_filtered.shape[0]} rows\")\n",
    "ground_filtered.head()\n",
    "\n"
   ]
  },
  {
   "cell_type": "markdown",
   "id": "d4c2e9f9",
   "metadata": {},
   "source": [
    "Arithmetic on MarsDate columns"
   ]
  },
  {
   "cell_type": "code",
   "execution_count": 64,
   "id": "7f9ddf5d",
   "metadata": {},
   "outputs": [
    {
     "data": {
      "application/vnd.microsoft.datawrangler.viewer.v0+json": {
       "columns": [
        {
         "name": "index",
         "rawType": "int64",
         "type": "integer"
        },
        {
         "name": "darian_date",
         "rawType": "object",
         "type": "unknown"
        },
        {
         "name": "ground_temperature_max",
         "rawType": "int64",
         "type": "integer"
        },
        {
         "name": "darian_date_plus5",
         "rawType": "object",
         "type": "unknown"
        }
       ],
       "ref": "b695cb7c-694f-447b-88ac-d58c2a2b965b",
       "rows": [
        [
         "0",
         "214/12/22",
         "8",
         "214/12/27"
        ],
        [
         "1",
         "214/12/23",
         "9",
         "214/13/01"
        ],
        [
         "2",
         "214/12/24",
         "8",
         "214/13/02"
        ],
        [
         "3",
         "214/12/25",
         "8",
         "214/13/03"
        ],
        [
         "4",
         "214/12/26",
         "9",
         "214/13/04"
        ]
       ],
       "shape": {
        "columns": 3,
        "rows": 5
       }
      },
      "text/html": [
       "<div>\n",
       "<style scoped>\n",
       "    .dataframe tbody tr th:only-of-type {\n",
       "        vertical-align: middle;\n",
       "    }\n",
       "\n",
       "    .dataframe tbody tr th {\n",
       "        vertical-align: top;\n",
       "    }\n",
       "\n",
       "    .dataframe thead th {\n",
       "        text-align: right;\n",
       "    }\n",
       "</style>\n",
       "<table border=\"1\" class=\"dataframe\">\n",
       "  <thead>\n",
       "    <tr style=\"text-align: right;\">\n",
       "      <th></th>\n",
       "      <th>darian_date</th>\n",
       "      <th>ground_temperature_max</th>\n",
       "      <th>darian_date_plus5</th>\n",
       "    </tr>\n",
       "  </thead>\n",
       "  <tbody>\n",
       "    <tr>\n",
       "      <th>0</th>\n",
       "      <td>214/12/22</td>\n",
       "      <td>8</td>\n",
       "      <td>214/12/27</td>\n",
       "    </tr>\n",
       "    <tr>\n",
       "      <th>1</th>\n",
       "      <td>214/12/23</td>\n",
       "      <td>9</td>\n",
       "      <td>214/13/01</td>\n",
       "    </tr>\n",
       "    <tr>\n",
       "      <th>2</th>\n",
       "      <td>214/12/24</td>\n",
       "      <td>8</td>\n",
       "      <td>214/13/02</td>\n",
       "    </tr>\n",
       "    <tr>\n",
       "      <th>3</th>\n",
       "      <td>214/12/25</td>\n",
       "      <td>8</td>\n",
       "      <td>214/13/03</td>\n",
       "    </tr>\n",
       "    <tr>\n",
       "      <th>4</th>\n",
       "      <td>214/12/26</td>\n",
       "      <td>9</td>\n",
       "      <td>214/13/04</td>\n",
       "    </tr>\n",
       "  </tbody>\n",
       "</table>\n",
       "</div>"
      ],
      "text/plain": [
       "  darian_date  ground_temperature_max darian_date_plus5\n",
       "0   214/12/22                       8         214/12/27\n",
       "1   214/12/23                       9         214/13/01\n",
       "2   214/12/24                       8         214/13/02\n",
       "3   214/12/25                       8         214/13/03\n",
       "4   214/12/26                       9         214/13/04"
      ]
     },
     "execution_count": 64,
     "metadata": {},
     "output_type": "execute_result"
    }
   ],
   "source": [
    "# Compute 5 sols later for every observation\n",
    "ground_temperature[\"darian_date_plus5\"] = (\n",
    "    ground_temperature[\"darian_date\"] + mdt.MarsTimedelta(sols=5)\n",
    ")\n",
    "ground_temperature.head()\n",
    "\n"
   ]
  },
  {
   "cell_type": "markdown",
   "id": "537a620b",
   "metadata": {},
   "source": [
    "Joining two tables on MarsDate"
   ]
  },
  {
   "cell_type": "code",
   "execution_count": 65,
   "id": "084c31c9",
   "metadata": {},
   "outputs": [
    {
     "data": {
      "application/vnd.microsoft.datawrangler.viewer.v0+json": {
       "columns": [
        {
         "name": "index",
         "rawType": "int64",
         "type": "integer"
        },
        {
         "name": "darian_date",
         "rawType": "object",
         "type": "unknown"
        },
        {
         "name": "ground_temperature_max",
         "rawType": "int64",
         "type": "integer"
        },
        {
         "name": "darian_date_plus5",
         "rawType": "object",
         "type": "unknown"
        },
        {
         "name": "pressure_current",
         "rawType": "int64",
         "type": "integer"
        }
       ],
       "ref": "bc4fcf60-6bb6-499c-81d5-8c6cab271c32",
       "rows": [
        [
         "0",
         "214/12/22",
         "8",
         "214/12/27",
         "739"
        ],
        [
         "1",
         "214/12/23",
         "9",
         "214/13/01",
         "740"
        ],
        [
         "2",
         "214/12/24",
         "8",
         "214/13/02",
         "741"
        ],
        [
         "3",
         "214/12/25",
         "8",
         "214/13/03",
         "732"
        ],
        [
         "4",
         "214/12/26",
         "9",
         "214/13/04",
         "740"
        ]
       ],
       "shape": {
        "columns": 4,
        "rows": 5
       }
      },
      "text/html": [
       "<div>\n",
       "<style scoped>\n",
       "    .dataframe tbody tr th:only-of-type {\n",
       "        vertical-align: middle;\n",
       "    }\n",
       "\n",
       "    .dataframe tbody tr th {\n",
       "        vertical-align: top;\n",
       "    }\n",
       "\n",
       "    .dataframe thead th {\n",
       "        text-align: right;\n",
       "    }\n",
       "</style>\n",
       "<table border=\"1\" class=\"dataframe\">\n",
       "  <thead>\n",
       "    <tr style=\"text-align: right;\">\n",
       "      <th></th>\n",
       "      <th>darian_date</th>\n",
       "      <th>ground_temperature_max</th>\n",
       "      <th>darian_date_plus5</th>\n",
       "      <th>pressure_current</th>\n",
       "    </tr>\n",
       "  </thead>\n",
       "  <tbody>\n",
       "    <tr>\n",
       "      <th>0</th>\n",
       "      <td>214/12/22</td>\n",
       "      <td>8</td>\n",
       "      <td>214/12/27</td>\n",
       "      <td>739</td>\n",
       "    </tr>\n",
       "    <tr>\n",
       "      <th>1</th>\n",
       "      <td>214/12/23</td>\n",
       "      <td>9</td>\n",
       "      <td>214/13/01</td>\n",
       "      <td>740</td>\n",
       "    </tr>\n",
       "    <tr>\n",
       "      <th>2</th>\n",
       "      <td>214/12/24</td>\n",
       "      <td>8</td>\n",
       "      <td>214/13/02</td>\n",
       "      <td>741</td>\n",
       "    </tr>\n",
       "    <tr>\n",
       "      <th>3</th>\n",
       "      <td>214/12/25</td>\n",
       "      <td>8</td>\n",
       "      <td>214/13/03</td>\n",
       "      <td>732</td>\n",
       "    </tr>\n",
       "    <tr>\n",
       "      <th>4</th>\n",
       "      <td>214/12/26</td>\n",
       "      <td>9</td>\n",
       "      <td>214/13/04</td>\n",
       "      <td>740</td>\n",
       "    </tr>\n",
       "  </tbody>\n",
       "</table>\n",
       "</div>"
      ],
      "text/plain": [
       "  darian_date  ground_temperature_max darian_date_plus5  pressure_current\n",
       "0   214/12/22                       8         214/12/27               739\n",
       "1   214/12/23                       9         214/13/01               740\n",
       "2   214/12/24                       8         214/13/02               741\n",
       "3   214/12/25                       8         214/13/03               732\n",
       "4   214/12/26                       9         214/13/04               740"
      ]
     },
     "metadata": {},
     "output_type": "display_data"
    }
   ],
   "source": [
    "merged = pd.merge(\n",
    "    ground_temperature,\n",
    "    pressure,\n",
    "    on=\"darian_date\",\n",
    "    how=\"inner\"\n",
    ")\n",
    "display(merged.head())\n",
    "\n"
   ]
  },
  {
   "cell_type": "markdown",
   "id": "6f5d44e0",
   "metadata": {},
   "source": [
    "Grouping and aggregation"
   ]
  },
  {
   "cell_type": "code",
   "execution_count": 66,
   "id": "bb9da415",
   "metadata": {},
   "outputs": [
    {
     "data": {
      "application/vnd.microsoft.datawrangler.viewer.v0+json": {
       "columns": [
        {
         "name": "index",
         "rawType": "int64",
         "type": "integer"
        },
        {
         "name": "year",
         "rawType": "int64",
         "type": "integer"
        },
        {
         "name": "month",
         "rawType": "int64",
         "type": "integer"
        },
        {
         "name": "avg_temp",
         "rawType": "float64",
         "type": "float"
        },
        {
         "name": "avg_pressure",
         "rawType": "float64",
         "type": "float"
        }
       ],
       "ref": "7bd872ef-2b5c-49e6-af62-acf9e883c7f1",
       "rows": [
        [
         "0",
         "214",
         "12",
         "8.333333333333334",
         "738.6666666666666"
        ],
        [
         "1",
         "214",
         "13",
         "6.708333333333333",
         "746.875"
        ],
        [
         "2",
         "214",
         "14",
         "11.821428571428571",
         "769.25"
        ],
        [
         "3",
         "214",
         "15",
         "14.607142857142858",
         "806.7857142857143"
        ],
        [
         "4",
         "214",
         "16",
         "14.321428571428571",
         "855.3214285714286"
        ]
       ],
       "shape": {
        "columns": 4,
        "rows": 5
       }
      },
      "text/html": [
       "<div>\n",
       "<style scoped>\n",
       "    .dataframe tbody tr th:only-of-type {\n",
       "        vertical-align: middle;\n",
       "    }\n",
       "\n",
       "    .dataframe tbody tr th {\n",
       "        vertical-align: top;\n",
       "    }\n",
       "\n",
       "    .dataframe thead th {\n",
       "        text-align: right;\n",
       "    }\n",
       "</style>\n",
       "<table border=\"1\" class=\"dataframe\">\n",
       "  <thead>\n",
       "    <tr style=\"text-align: right;\">\n",
       "      <th></th>\n",
       "      <th>year</th>\n",
       "      <th>month</th>\n",
       "      <th>avg_temp</th>\n",
       "      <th>avg_pressure</th>\n",
       "    </tr>\n",
       "  </thead>\n",
       "  <tbody>\n",
       "    <tr>\n",
       "      <th>0</th>\n",
       "      <td>214</td>\n",
       "      <td>12</td>\n",
       "      <td>8.333333</td>\n",
       "      <td>738.666667</td>\n",
       "    </tr>\n",
       "    <tr>\n",
       "      <th>1</th>\n",
       "      <td>214</td>\n",
       "      <td>13</td>\n",
       "      <td>6.708333</td>\n",
       "      <td>746.875000</td>\n",
       "    </tr>\n",
       "    <tr>\n",
       "      <th>2</th>\n",
       "      <td>214</td>\n",
       "      <td>14</td>\n",
       "      <td>11.821429</td>\n",
       "      <td>769.250000</td>\n",
       "    </tr>\n",
       "    <tr>\n",
       "      <th>3</th>\n",
       "      <td>214</td>\n",
       "      <td>15</td>\n",
       "      <td>14.607143</td>\n",
       "      <td>806.785714</td>\n",
       "    </tr>\n",
       "    <tr>\n",
       "      <th>4</th>\n",
       "      <td>214</td>\n",
       "      <td>16</td>\n",
       "      <td>14.321429</td>\n",
       "      <td>855.321429</td>\n",
       "    </tr>\n",
       "  </tbody>\n",
       "</table>\n",
       "</div>"
      ],
      "text/plain": [
       "   year  month   avg_temp  avg_pressure\n",
       "0   214     12   8.333333    738.666667\n",
       "1   214     13   6.708333    746.875000\n",
       "2   214     14  11.821429    769.250000\n",
       "3   214     15  14.607143    806.785714\n",
       "4   214     16  14.321429    855.321429"
      ]
     },
     "metadata": {},
     "output_type": "display_data"
    }
   ],
   "source": [
    "merged[\"year\"] = merged[\"darian_date\"].apply(lambda d: d.year if d is not None else np.nan)\n",
    "merged[\"month\"] = merged[\"darian_date\"].apply(lambda d: d.month if d is not None else np.nan)\n",
    "\n",
    "monthly_avg = (\n",
    "    merged.groupby([\"year\", \"month\"])\n",
    "    .agg(avg_temp=(\"ground_temperature_max\", \"mean\"),\n",
    "         avg_pressure=(\"pressure_current\", \"mean\"))\n",
    "    .reset_index()\n",
    ")\n",
    "display(monthly_avg.head())\n",
    "\n"
   ]
  },
  {
   "cell_type": "markdown",
   "id": "05bf407c",
   "metadata": {},
   "source": [
    "Plotting with df.plot()"
   ]
  },
  {
   "cell_type": "code",
   "execution_count": 67,
   "id": "d0f7faac",
   "metadata": {},
   "outputs": [
    {
     "data": {
      "image/png": "[encoded data removed]",
      "text/plain": [
       "<Figure size 640x480 with 1 Axes>"
      ]
     },
     "metadata": {},
     "output_type": "display_data"
    }
   ],
   "source": [
    "ax = merged.plot(\n",
    "    x=\"darian_date\",\n",
    "    y=[\"ground_temperature_max\", \"pressure_current\"],\n",
    "    title=\"Martian Ground Temperature and Pressure over Time\",\n",
    "    grid=True,\n",
    "    linewidth=1.2,\n",
    ")\n",
    "plt.xticks(rotation=45)\n",
    "plt.tight_layout()  # prevents label cutoff\n",
    "plt.show()\n",
    "\n",
    "\n"
   ]
  },
  {
   "cell_type": "markdown",
   "id": "dc88e3f6",
   "metadata": {},
   "source": [
    "Conversion and serialization"
   ]
  },
  {
   "cell_type": "code",
   "execution_count": 68,
   "id": "c6c894f9",
   "metadata": {},
   "outputs": [
    {
     "name": "stdout",
     "output_type": "stream",
     "text": [
      "Numeric ordinals: [143407. 143408. 143409. 143410. 143411.]\n"
     ]
    }
   ],
   "source": [
    "# Convert to ordinals\n",
    "ordinals = ground_temperature[\"darian_date\"].to_numpy()\n",
    "print(\"Numeric ordinals:\", ordinals[:5])\n",
    "\n"
   ]
  },
  {
   "cell_type": "code",
   "execution_count": 69,
   "id": "db4ab48d",
   "metadata": {},
   "outputs": [
    {
     "name": "stdout",
     "output_type": "stream",
     "text": [
      "String view: 0    143407.0\n",
      "1    143408.0\n",
      "2    143409.0\n",
      "3    143410.0\n",
      "4    143411.0\n",
      "Name: darian_date, dtype: object\n"
     ]
    }
   ],
   "source": [
    "# Convert to strings\n",
    "as_str = ground_temperature[\"darian_date\"].astype(str)\n",
    "print(\"String view:\", as_str.head())\n",
    "\n"
   ]
  },
  {
   "cell_type": "markdown",
   "id": "bae565bb",
   "metadata": {},
   "source": [
    "compute time differences between consecutive rows"
   ]
  },
  {
   "cell_type": "code",
   "execution_count": 70,
   "id": "58400e35",
   "metadata": {},
   "outputs": [
    {
     "name": "stdout",
     "output_type": "stream",
     "text": [
      "Average sols between samples: -1.0619166856362394\n"
     ]
    }
   ],
   "source": [
    "d = ground_sorted.index\n",
    "diffs = np.diff([v.to_ordinal() for v in d])\n",
    "print(\"Average sols between samples:\", np.mean(diffs))\n",
    "\n"
   ]
  },
  {
   "cell_type": "markdown",
   "id": "353cd11b",
   "metadata": {},
   "source": [
    "Example: resampling equivalent (manual for now)\n",
    "\n",
    "MarsDate supports floor/ceil/round, so you can use them to create binning categories."
   ]
  },
  {
   "cell_type": "code",
   "execution_count": 71,
   "id": "7116f71b",
   "metadata": {},
   "outputs": [],
   "source": [
    "ground_temperature[\"darian_date\"] = mdt.MarsDateArray([\n",
    "    mdt.MarsDate.from_string(x) if isinstance(x, str) else x\n",
    "    for x in ground_temperature[\"darian_date\"]\n",
    "])\n"
   ]
  },
  {
   "cell_type": "code",
   "execution_count": 72,
   "id": "3dda9a5a",
   "metadata": {},
   "outputs": [
    {
     "name": "stdout",
     "output_type": "stream",
     "text": [
      "dtype: marsdate\n",
      "type(col.array): <class 'mars_dtc.pandas_ext.MarsDateArray'>\n",
      "sample: 214/12/22\n"
     ]
    }
   ],
   "source": [
    "col = ground_temperature[\"darian_date\"]\n",
    "print(\"dtype:\", col.dtype)\n",
    "print(\"type(col.array):\", type(col.array))\n",
    "print(\"sample:\", col.iloc[0])\n"
   ]
  },
  {
   "cell_type": "code",
   "execution_count": 73,
   "id": "3ae0aeca",
   "metadata": {},
   "outputs": [
    {
     "data": {
      "application/vnd.microsoft.datawrangler.viewer.v0+json": {
       "columns": [
        {
         "name": "index",
         "rawType": "int64",
         "type": "integer"
        },
        {
         "name": "month_floor",
         "rawType": "object",
         "type": "unknown"
        },
        {
         "name": "ground_temperature_max",
         "rawType": "float64",
         "type": "float"
        }
       ],
       "ref": "6981f7fc-1205-4da7-9f8e-759166995bba",
       "rows": [
        [
         "0",
         "214/12/01",
         "8.333333333333334"
        ],
        [
         "1",
         "214/13/01",
         "6.708333333333333"
        ],
        [
         "2",
         "214/14/01",
         "11.821428571428571"
        ],
        [
         "3",
         "214/15/01",
         "14.607142857142858"
        ],
        [
         "4",
         "214/16/01",
         "14.321428571428571"
        ]
       ],
       "shape": {
        "columns": 2,
        "rows": 5
       }
      },
      "text/html": [
       "<div>\n",
       "<style scoped>\n",
       "    .dataframe tbody tr th:only-of-type {\n",
       "        vertical-align: middle;\n",
       "    }\n",
       "\n",
       "    .dataframe tbody tr th {\n",
       "        vertical-align: top;\n",
       "    }\n",
       "\n",
       "    .dataframe thead th {\n",
       "        text-align: right;\n",
       "    }\n",
       "</style>\n",
       "<table border=\"1\" class=\"dataframe\">\n",
       "  <thead>\n",
       "    <tr style=\"text-align: right;\">\n",
       "      <th></th>\n",
       "      <th>month_floor</th>\n",
       "      <th>ground_temperature_max</th>\n",
       "    </tr>\n",
       "  </thead>\n",
       "  <tbody>\n",
       "    <tr>\n",
       "      <th>0</th>\n",
       "      <td>214/12/01</td>\n",
       "      <td>8.333333</td>\n",
       "    </tr>\n",
       "    <tr>\n",
       "      <th>1</th>\n",
       "      <td>214/13/01</td>\n",
       "      <td>6.708333</td>\n",
       "    </tr>\n",
       "    <tr>\n",
       "      <th>2</th>\n",
       "      <td>214/14/01</td>\n",
       "      <td>11.821429</td>\n",
       "    </tr>\n",
       "    <tr>\n",
       "      <th>3</th>\n",
       "      <td>214/15/01</td>\n",
       "      <td>14.607143</td>\n",
       "    </tr>\n",
       "    <tr>\n",
       "      <th>4</th>\n",
       "      <td>214/16/01</td>\n",
       "      <td>14.321429</td>\n",
       "    </tr>\n",
       "  </tbody>\n",
       "</table>\n",
       "</div>"
      ],
      "text/plain": [
       "  month_floor  ground_temperature_max\n",
       "0   214/12/01                8.333333\n",
       "1   214/13/01                6.708333\n",
       "2   214/14/01               11.821429\n",
       "3   214/15/01               14.607143\n",
       "4   214/16/01               14.321429"
      ]
     },
     "execution_count": 73,
     "metadata": {},
     "output_type": "execute_result"
    }
   ],
   "source": [
    "# Vectorized floor across the whole column\n",
    "ground_temperature[\"month_floor\"] = ground_temperature[\"darian_date\"].array.floor(\"month\")\n",
    "\n",
    "# Group by the floored month\n",
    "monthly_group = (\n",
    "    ground_temperature.groupby(\"month_floor\")[\"ground_temperature_max\"]\n",
    "    .mean()\n",
    "    .reset_index()\n",
    ")\n",
    "\n",
    "monthly_group.head()\n"
   ]
  },
  {
   "cell_type": "markdown",
   "id": "5293c7df",
   "metadata": {},
   "source": [
    "## Matplotlib"
   ]
  },
  {
   "cell_type": "code",
   "execution_count": 74,
   "id": "e3a735d4",
   "metadata": {},
   "outputs": [
    {
     "data": {
      "image/png": "[encoded data removed]",
      "text/plain": [
       "<Figure size 1000x500 with 2 Axes>"
      ]
     },
     "metadata": {},
     "output_type": "display_data"
    }
   ],
   "source": [
    "# simple subset\n",
    "subset = merged.head(100).copy()\n",
    "\n",
    "x = subset[\"darian_date\"].array\n",
    "y_temp = subset[\"ground_temperature_max\"]\n",
    "y_pressure = subset[\"pressure_current\"]\n",
    "\n",
    "# Create figure and plot\n",
    "fig, ax1 = plt.subplots(figsize=(10, 5))\n",
    "\n",
    "ax1.plot(x, y_temp, color=\"red\", label=\"Ground Temperature (°C)\")\n",
    "ax1.set_xlabel(\"Darian Date\")\n",
    "ax1.set_ylabel(\"Ground Temperature (°C)\", color=\"red\")\n",
    "\n",
    "ax2 = ax1.twinx()\n",
    "ax2.plot(x, y_pressure, color=\"blue\", label=\"Pressure (Pa)\")\n",
    "ax2.set_ylabel(\"Pressure (Pa)\", color=\"blue\")\n",
    "\n",
    "ax1.grid(True)\n",
    "fig.suptitle(\"Martian Ground Temperature and Pressure (Darian Calendar)\", fontsize=13)\n",
    "\n",
    "fig.autofmt_xdate()\n",
    "plt.show()\n"
   ]
  },
  {
   "cell_type": "code",
   "execution_count": 75,
   "id": "a1bee54f",
   "metadata": {},
   "outputs": [
    {
     "data": {
      "image/png": "[encoded data removed]",
      "text/plain": [
       "<Figure size 1000x500 with 1 Axes>"
      ]
     },
     "metadata": {},
     "output_type": "display_data"
    }
   ],
   "source": [
    "fig, ax = plt.subplots(figsize=(10, 5))\n",
    "\n",
    "ax.plot(\n",
    "    merged[\"darian_date\"],\n",
    "    merged[\"ground_temperature_max\"],\n",
    "    color=\"red\",\n",
    "    label=\"Ground Temperature (°C)\"\n",
    ")\n",
    "\n",
    "def marsdate_formatter(x, pos):\n",
    "    if np.isnan(x):\n",
    "        return \"NaT\"\n",
    "    d = mdt.MarsDate.from_ordinal(int(x))\n",
    "\n",
    "    return f\"{d.year} {d.calendar.month_name(d.month)} {d.sol:02d}\"\n",
    "\n",
    "ax.xaxis.set_major_formatter(FuncFormatter(marsdate_formatter))\n",
    "\n",
    "ax.set_title(\"Ground Temperature Over Martian Time\", fontsize=12)\n",
    "ax.set_xlabel(\"Darian Date (Year–Month–Sol)\")\n",
    "ax.set_ylabel(\"Temperature (°C)\")\n",
    "ax.grid(True)\n",
    "ax.legend()\n",
    "fig.autofmt_xdate()\n",
    "\n",
    "fig.savefig(\"mars_ground_temperature.png\", dpi=300, bbox_inches=\"tight\")\n",
    "\n",
    "plt.show()\n",
    "\n"
   ]
  },
  {
   "cell_type": "code",
   "execution_count": null,
   "id": "2dcc6ef6",
   "metadata": {},
   "outputs": [],
   "source": []
  }
 ],
 "metadata": {
  "kernelspec": {
   "display_name": "mars_datetime",
   "language": "python",
   "name": "python3"
  },
  "language_info": {
   "codemirror_mode": {
    "name": "ipython",
    "version": 3
   },
   "file_extension": ".py",
   "mimetype": "text/x-python",
   "name": "python",
   "nbconvert_exporter": "python",
   "pygments_lexer": "ipython3",
   "version": "3.12.2"
  }
 },
 "nbformat": 4,
 "nbformat_minor": 5
}
